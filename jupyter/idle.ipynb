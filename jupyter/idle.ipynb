{
 "cells": [
  {
   "cell_type": "code",
   "execution_count": 1,
   "id": "be5c2474-888e-4648-ad21-52e634d2f1dd",
   "metadata": {},
   "outputs": [],
   "source": [
    "import pandas as pd\n",
    "import seaborn as sns \n",
    "import matplotlib.pyplot as plt"
   ]
  },
  {
   "cell_type": "code",
   "execution_count": 2,
   "id": "1dda1bd5-a6f4-4261-a278-205f7915e338",
   "metadata": {},
   "outputs": [],
   "source": [
    "df0 = pd.read_csv(\"../data/usb2-max-idle.csv\", names=[\"time\", \"power\"])\n",
    "df0[\"mode\"] = \"MAX\"\n",
    "df0[\"USB\"] = \"USB2\""
   ]
  },
  {
   "cell_type": "code",
   "execution_count": 3,
   "id": "79407ebf-7de7-49ba-ab3d-c6daaeb60fca",
   "metadata": {},
   "outputs": [],
   "source": [
    "df1 = pd.read_csv(\"../data/usb3-max-idle.csv\", names=[\"time\", \"power\"])\n",
    "df1[\"mode\"] = \"MAX\"\n",
    "df1[\"USB\"] = \"USB3\""
   ]
  },
  {
   "cell_type": "code",
   "execution_count": 4,
   "id": "6d31c5a9-5b13-4641-8f88-67bcd7154307",
   "metadata": {},
   "outputs": [],
   "source": [
    "df2 = pd.read_csv(\"../data/usb2-std-idle.csv\", names=[\"time\", \"power\"])\n",
    "df2[\"mode\"] = \"STD\"\n",
    "df2[\"USB\"] = \"USB2\""
   ]
  },
  {
   "cell_type": "code",
   "execution_count": 5,
   "id": "be752093-e276-44e0-b6c6-1adef911f48a",
   "metadata": {},
   "outputs": [],
   "source": [
    "df3 = pd.read_csv(\"../data/usb3-std-idle.csv\", names=[\"time\", \"power\"])\n",
    "df3[\"mode\"] = \"STD\"\n",
    "df3[\"USB\"] = \"USB3\""
   ]
  },
  {
   "cell_type": "code",
   "execution_count": 6,
   "id": "c5ca586e-be2a-4699-9fc2-4fc8ac83e6f6",
   "metadata": {},
   "outputs": [],
   "source": [
    "overall = pd.concat([df0, df1, df2, df3])"
   ]
  },
  {
   "cell_type": "code",
   "execution_count": 7,
   "id": "a0525e91-ca0f-4845-b000-bf64df7a3fdd",
   "metadata": {},
   "outputs": [],
   "source": [
    "overall[\"type\"] = overall[\"mode\"] +\" & \"+ overall[\"USB\"]"
   ]
  },
  {
   "cell_type": "code",
   "execution_count": 8,
   "id": "14752f26",
   "metadata": {},
   "outputs": [
    {
     "data": {
      "text/html": [
       "<div>\n",
       "<style scoped>\n",
       "    .dataframe tbody tr th:only-of-type {\n",
       "        vertical-align: middle;\n",
       "    }\n",
       "\n",
       "    .dataframe tbody tr th {\n",
       "        vertical-align: top;\n",
       "    }\n",
       "\n",
       "    .dataframe thead th {\n",
       "        text-align: right;\n",
       "    }\n",
       "</style>\n",
       "<table border=\"1\" class=\"dataframe\">\n",
       "  <thead>\n",
       "    <tr style=\"text-align: right;\">\n",
       "      <th></th>\n",
       "      <th>time</th>\n",
       "      <th>power</th>\n",
       "      <th>mode</th>\n",
       "      <th>USB</th>\n",
       "      <th>type</th>\n",
       "    </tr>\n",
       "  </thead>\n",
       "  <tbody>\n",
       "    <tr>\n",
       "      <th>0</th>\n",
       "      <td>2024-05-02 13:45:14</td>\n",
       "      <td>3.474</td>\n",
       "      <td>MAX</td>\n",
       "      <td>USB2</td>\n",
       "      <td>MAX &amp; USB2</td>\n",
       "    </tr>\n",
       "    <tr>\n",
       "      <th>1</th>\n",
       "      <td>2024-05-02 13:45:19</td>\n",
       "      <td>3.436</td>\n",
       "      <td>MAX</td>\n",
       "      <td>USB2</td>\n",
       "      <td>MAX &amp; USB2</td>\n",
       "    </tr>\n",
       "    <tr>\n",
       "      <th>2</th>\n",
       "      <td>2024-05-02 13:45:24</td>\n",
       "      <td>3.436</td>\n",
       "      <td>MAX</td>\n",
       "      <td>USB2</td>\n",
       "      <td>MAX &amp; USB2</td>\n",
       "    </tr>\n",
       "    <tr>\n",
       "      <th>3</th>\n",
       "      <td>2024-05-02 13:45:29</td>\n",
       "      <td>3.398</td>\n",
       "      <td>MAX</td>\n",
       "      <td>USB2</td>\n",
       "      <td>MAX &amp; USB2</td>\n",
       "    </tr>\n",
       "    <tr>\n",
       "      <th>4</th>\n",
       "      <td>2024-05-02 13:45:34</td>\n",
       "      <td>3.436</td>\n",
       "      <td>MAX</td>\n",
       "      <td>USB2</td>\n",
       "      <td>MAX &amp; USB2</td>\n",
       "    </tr>\n",
       "    <tr>\n",
       "      <th>...</th>\n",
       "      <td>...</td>\n",
       "      <td>...</td>\n",
       "      <td>...</td>\n",
       "      <td>...</td>\n",
       "      <td>...</td>\n",
       "    </tr>\n",
       "    <tr>\n",
       "      <th>81</th>\n",
       "      <td>2024-05-02 15:21:32</td>\n",
       "      <td>4.595</td>\n",
       "      <td>STD</td>\n",
       "      <td>USB3</td>\n",
       "      <td>STD &amp; USB3</td>\n",
       "    </tr>\n",
       "    <tr>\n",
       "      <th>82</th>\n",
       "      <td>2024-05-02 15:21:37</td>\n",
       "      <td>4.765</td>\n",
       "      <td>STD</td>\n",
       "      <td>USB3</td>\n",
       "      <td>STD &amp; USB3</td>\n",
       "    </tr>\n",
       "    <tr>\n",
       "      <th>83</th>\n",
       "      <td>2024-05-02 15:21:42</td>\n",
       "      <td>4.633</td>\n",
       "      <td>STD</td>\n",
       "      <td>USB3</td>\n",
       "      <td>STD &amp; USB3</td>\n",
       "    </tr>\n",
       "    <tr>\n",
       "      <th>84</th>\n",
       "      <td>2024-05-02 15:21:47</td>\n",
       "      <td>4.557</td>\n",
       "      <td>STD</td>\n",
       "      <td>USB3</td>\n",
       "      <td>STD &amp; USB3</td>\n",
       "    </tr>\n",
       "    <tr>\n",
       "      <th>85</th>\n",
       "      <td>2024-05-02 15:21:52</td>\n",
       "      <td>4.652</td>\n",
       "      <td>STD</td>\n",
       "      <td>USB3</td>\n",
       "      <td>STD &amp; USB3</td>\n",
       "    </tr>\n",
       "  </tbody>\n",
       "</table>\n",
       "<p>332 rows × 5 columns</p>\n",
       "</div>"
      ],
      "text/plain": [
       "                   time  power mode   USB        type\n",
       "0   2024-05-02 13:45:14  3.474  MAX  USB2  MAX & USB2\n",
       "1   2024-05-02 13:45:19  3.436  MAX  USB2  MAX & USB2\n",
       "2   2024-05-02 13:45:24  3.436  MAX  USB2  MAX & USB2\n",
       "3   2024-05-02 13:45:29  3.398  MAX  USB2  MAX & USB2\n",
       "4   2024-05-02 13:45:34  3.436  MAX  USB2  MAX & USB2\n",
       "..                  ...    ...  ...   ...         ...\n",
       "81  2024-05-02 15:21:32  4.595  STD  USB3  STD & USB3\n",
       "82  2024-05-02 15:21:37  4.765  STD  USB3  STD & USB3\n",
       "83  2024-05-02 15:21:42  4.633  STD  USB3  STD & USB3\n",
       "84  2024-05-02 15:21:47  4.557  STD  USB3  STD & USB3\n",
       "85  2024-05-02 15:21:52  4.652  STD  USB3  STD & USB3\n",
       "\n",
       "[332 rows x 5 columns]"
      ]
     },
     "execution_count": 8,
     "metadata": {},
     "output_type": "execute_result"
    }
   ],
   "source": [
    "overall"
   ]
  },
  {
   "cell_type": "code",
   "execution_count": 9,
   "id": "3837a3f3-7503-4d21-be90-2b056fbf238a",
   "metadata": {},
   "outputs": [
    {
     "data": {
      "image/png": "[encoded data removed]",
      "text/plain": [
       "<Figure size 650x200 with 1 Axes>"
      ]
     },
     "metadata": {},
     "output_type": "display_data"
    }
   ],
   "source": [
    "palette_ = sns.cubehelix_palette(start=.5, rot=-.5)\n",
    "\n",
    "ax = sns.boxplot(data=overall, x=\"power\", y=\"type\", color=palette_[0])\n",
    "ax.set_xlabel(\"Power(W)\")\n",
    "ax.set_ylabel(\"USB Type & Mode\")\n",
    "ax.set_title(\"Idle power consumption for different configuration setups\")\n",
    "ax.set_yticklabels([\"V2, MAX\",\"V3, MAX\",\"V2, STD\",\"V3, STD\"])\n",
    "ax.figure.set_size_inches(6.5, 2)\n",
    "ax.figure.tight_layout()\n",
    "ax.figure.savefig(\"../output/idle.png\")"
   ]
  },
  {
   "cell_type": "code",
   "execution_count": 10,
   "id": "d66ebde3-4d6b-435e-b89e-9b5074b43769",
   "metadata": {},
   "outputs": [
    {
     "data": {
      "text/html": [
       "<div>\n",
       "<style scoped>\n",
       "    .dataframe tbody tr th:only-of-type {\n",
       "        vertical-align: middle;\n",
       "    }\n",
       "\n",
       "    .dataframe tbody tr th {\n",
       "        vertical-align: top;\n",
       "    }\n",
       "\n",
       "    .dataframe thead th {\n",
       "        text-align: right;\n",
       "    }\n",
       "</style>\n",
       "<table border=\"1\" class=\"dataframe\">\n",
       "  <thead>\n",
       "    <tr style=\"text-align: right;\">\n",
       "      <th></th>\n",
       "      <th>power</th>\n",
       "    </tr>\n",
       "    <tr>\n",
       "      <th>type</th>\n",
       "      <th></th>\n",
       "    </tr>\n",
       "  </thead>\n",
       "  <tbody>\n",
       "    <tr>\n",
       "      <th>MAX &amp; USB2</th>\n",
       "      <td>3.461269</td>\n",
       "    </tr>\n",
       "    <tr>\n",
       "      <th>MAX &amp; USB3</th>\n",
       "      <td>4.581782</td>\n",
       "    </tr>\n",
       "    <tr>\n",
       "      <th>STD &amp; USB2</th>\n",
       "      <td>3.462649</td>\n",
       "    </tr>\n",
       "    <tr>\n",
       "      <th>STD &amp; USB3</th>\n",
       "      <td>4.595814</td>\n",
       "    </tr>\n",
       "  </tbody>\n",
       "</table>\n",
       "</div>"
      ],
      "text/plain": [
       "               power\n",
       "type                \n",
       "MAX & USB2  3.461269\n",
       "MAX & USB3  4.581782\n",
       "STD & USB2  3.462649\n",
       "STD & USB3  4.595814"
      ]
     },
     "execution_count": 10,
     "metadata": {},
     "output_type": "execute_result"
    }
   ],
   "source": [
    "overall.groupby(\"type\").mean(\"power\")"
   ]
  },
  {
   "cell_type": "code",
   "execution_count": 11,
   "id": "fcda5794-f4c2-4a15-bd95-9adbc0c9cf2e",
   "metadata": {},
   "outputs": [
    {
     "data": {
      "text/html": [
       "<div>\n",
       "<style scoped>\n",
       "    .dataframe tbody tr th:only-of-type {\n",
       "        vertical-align: middle;\n",
       "    }\n",
       "\n",
       "    .dataframe tbody tr th {\n",
       "        vertical-align: top;\n",
       "    }\n",
       "\n",
       "    .dataframe thead th {\n",
       "        text-align: right;\n",
       "    }\n",
       "</style>\n",
       "<table border=\"1\" class=\"dataframe\">\n",
       "  <thead>\n",
       "    <tr style=\"text-align: right;\">\n",
       "      <th></th>\n",
       "      <th>power</th>\n",
       "    </tr>\n",
       "    <tr>\n",
       "      <th>type</th>\n",
       "      <th></th>\n",
       "    </tr>\n",
       "  </thead>\n",
       "  <tbody>\n",
       "    <tr>\n",
       "      <th>MAX &amp; USB2</th>\n",
       "      <td>3.474</td>\n",
       "    </tr>\n",
       "    <tr>\n",
       "      <th>MAX &amp; USB3</th>\n",
       "      <td>4.576</td>\n",
       "    </tr>\n",
       "    <tr>\n",
       "      <th>STD &amp; USB2</th>\n",
       "      <td>3.474</td>\n",
       "    </tr>\n",
       "    <tr>\n",
       "      <th>STD &amp; USB3</th>\n",
       "      <td>4.576</td>\n",
       "    </tr>\n",
       "  </tbody>\n",
       "</table>\n",
       "</div>"
      ],
      "text/plain": [
       "            power\n",
       "type             \n",
       "MAX & USB2  3.474\n",
       "MAX & USB3  4.576\n",
       "STD & USB2  3.474\n",
       "STD & USB3  4.576"
      ]
     },
     "execution_count": 11,
     "metadata": {},
     "output_type": "execute_result"
    }
   ],
   "source": [
    "overall.groupby(\"type\").median(\"power\")"
   ]
  },
  {
   "cell_type": "code",
   "execution_count": null,
   "id": "53aa3df4",
   "metadata": {},
   "outputs": [],
   "source": []
  }
 ],
 "metadata": {
  "kernelspec": {
   "display_name": "Python 3 (ipykernel)",
   "language": "python",
   "name": "python3"
  },
  "language_info": {
   "codemirror_mode": {
    "name": "ipython",
    "version": 3
   },
   "file_extension": ".py",
   "mimetype": "text/x-python",
   "name": "python",
   "nbconvert_exporter": "python",
   "pygments_lexer": "ipython3",
   "version": "3.11.5"
  }
 },
 "nbformat": 4,
 "nbformat_minor": 5
}
